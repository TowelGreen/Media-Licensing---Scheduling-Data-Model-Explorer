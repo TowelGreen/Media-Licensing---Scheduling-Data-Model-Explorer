{
 "cells": [
  {
   "cell_type": "markdown",
   "id": "01ba7e6e",
   "metadata": {},
   "source": [
    "**Load Environment Variables**"
   ]
  },
  {
   "cell_type": "code",
   "execution_count": 1,
   "id": "4ec996fd",
   "metadata": {},
   "outputs": [],
   "source": [
    "import os\n",
    "import pandas as pd\n",
    "from dotenv import load_dotenv\n",
    "load_dotenv()\n",
    "\n",
    "DB_USER = os.getenv(\"DB_USER\")\n",
    "DB_PASS = os.getenv(\"DB_PASS\")\n",
    "DB_HOST = \"127.0.0.1\"\n",
    "DB_PORT = 3306\n",
    "DB_NAME = os.getenv(\"DB_NAME\")\n"
   ]
  },
  {
   "cell_type": "markdown",
   "id": "fe822e09",
   "metadata": {},
   "source": [
    "**Create SQLAlchemy Engine**"
   ]
  },
  {
   "cell_type": "code",
   "execution_count": 2,
   "id": "7e394946",
   "metadata": {},
   "outputs": [],
   "source": [
    "from sqlalchemy import create_engine\n",
    "\n",
    "# Create a MySQL connection engine\n",
    "engine = create_engine(f\"mysql+mysqlconnector://{DB_USER}:{DB_PASS}@{DB_HOST}:{DB_PORT}/{DB_NAME}\")\n"
   ]
  },
  {
   "cell_type": "markdown",
   "id": "751f2ea8",
   "metadata": {},
   "source": [
    "###  **Query 1: Overlapping Schedules** \n",
    "\n",
    "**Purpose:** Identify media scheduled to air overlapping on the same platform.  \n",
    "**Business Use Case:** Helps prevent double-booking and ensures proper broadcast planning.\n"
   ]
  },
  {
   "cell_type": "code",
   "execution_count": 3,
   "id": "a091143c",
   "metadata": {},
   "outputs": [
    {
     "data": {
      "application/vnd.microsoft.datawrangler.viewer.v0+json": {
       "columns": [
        {
         "name": "index",
         "rawType": "int64",
         "type": "integer"
        },
        {
         "name": "media_title",
         "rawType": "object",
         "type": "string"
        },
        {
         "name": "platform_name",
         "rawType": "object",
         "type": "string"
        },
        {
         "name": "schedule1_start",
         "rawType": "datetime64[ns]",
         "type": "datetime"
        },
        {
         "name": "schedule2_start",
         "rawType": "datetime64[ns]",
         "type": "datetime"
        },
        {
         "name": "duration_minutes",
         "rawType": "int64",
         "type": "integer"
        }
       ],
       "ref": "5e292da8-98a1-4f5f-8250-49b21d5bb29d",
       "rows": [
        [
         "0",
         "Inception",
         "Netflix",
         "2025-08-15 20:00:00",
         "2025-08-15 21:00:00",
         "120"
        ]
       ],
       "shape": {
        "columns": 5,
        "rows": 1
       }
      },
      "text/html": [
       "<div>\n",
       "<style scoped>\n",
       "    .dataframe tbody tr th:only-of-type {\n",
       "        vertical-align: middle;\n",
       "    }\n",
       "\n",
       "    .dataframe tbody tr th {\n",
       "        vertical-align: top;\n",
       "    }\n",
       "\n",
       "    .dataframe thead th {\n",
       "        text-align: right;\n",
       "    }\n",
       "</style>\n",
       "<table border=\"1\" class=\"dataframe\">\n",
       "  <thead>\n",
       "    <tr style=\"text-align: right;\">\n",
       "      <th></th>\n",
       "      <th>media_title</th>\n",
       "      <th>platform_name</th>\n",
       "      <th>schedule1_start</th>\n",
       "      <th>schedule2_start</th>\n",
       "      <th>duration_minutes</th>\n",
       "    </tr>\n",
       "  </thead>\n",
       "  <tbody>\n",
       "    <tr>\n",
       "      <th>0</th>\n",
       "      <td>Inception</td>\n",
       "      <td>Netflix</td>\n",
       "      <td>2025-08-15 20:00:00</td>\n",
       "      <td>2025-08-15 21:00:00</td>\n",
       "      <td>120</td>\n",
       "    </tr>\n",
       "  </tbody>\n",
       "</table>\n",
       "</div>"
      ],
      "text/plain": [
       "  media_title platform_name     schedule1_start     schedule2_start  \\\n",
       "0   Inception       Netflix 2025-08-15 20:00:00 2025-08-15 21:00:00   \n",
       "\n",
       "   duration_minutes  \n",
       "0               120  "
      ]
     },
     "execution_count": 3,
     "metadata": {},
     "output_type": "execute_result"
    }
   ],
   "source": [
    "query1 = \"\"\"\n",
    "SELECT\n",
    "    m1.title AS media_title,\n",
    "    p1.name AS platform_name,\n",
    "    s1.air_datetime AS schedule1_start,\n",
    "    s2.air_datetime AS schedule2_start,\n",
    "    s1.duration_minutes AS duration_minutes\n",
    "FROM\n",
    "    schedule s1\n",
    "JOIN\n",
    "    schedule s2 ON s1.media_id = s2.media_id\n",
    "    AND s1.platform_id = s2.platform_id  -- THIS IS THE NEW CONDITION\n",
    "    AND s1.schedule_id < s2.schedule_id\n",
    "JOIN\n",
    "    media m1 ON s1.media_id = m1.media_id\n",
    "JOIN\n",
    "    platform p1 ON s1.platform_id = p1.platform_id\n",
    "WHERE\n",
    "    s1.air_datetime < s2.air_datetime + INTERVAL s2.duration_minutes MINUTE\n",
    "    AND s2.air_datetime < s1.air_datetime + INTERVAL s1.duration_minutes MINUTE;\n",
    "\"\"\"\n",
    "df1 = pd.read_sql(query1, engine)\n",
    "df1\n"
   ]
  },
  {
   "cell_type": "code",
   "execution_count": 4,
   "id": "b2c91bbd",
   "metadata": {},
   "outputs": [
    {
     "data": {
      "image/png": "[encoded data removed]",
      "text/plain": [
       "<Figure size 1000x400 with 1 Axes>"
      ]
     },
     "metadata": {},
     "output_type": "display_data"
    }
   ],
   "source": [
    "import matplotlib.pyplot as plt\n",
    "import matplotlib.dates as mdates\n",
    "import pandas as pd\n",
    "\n",
    "plt.figure(figsize=(10, 4))\n",
    "\n",
    "# Small vertical offset for schedule bars\n",
    "bar_offset = 0.2\n",
    "\n",
    "for i, row in df1.iterrows():\n",
    "    # Convert to datetime if needed\n",
    "    s1_start = pd.to_datetime(row['schedule1_start'])\n",
    "    s2_start = pd.to_datetime(row['schedule2_start'])\n",
    "    duration = pd.Timedelta(minutes=row['duration_minutes'])\n",
    "    \n",
    "    # Plot Schedule 1\n",
    "    plt.barh(\n",
    "        y=i - bar_offset,\n",
    "        width=duration.total_seconds()/3600,\n",
    "        left=s1_start,\n",
    "        height=0.35,\n",
    "        color=\"skyblue\",\n",
    "        edgecolor=\"black\",\n",
    "        label=\"Schedule 1\" if i==0 else \"\"\n",
    "    )\n",
    "    \n",
    "    # Plot Schedule 2\n",
    "    plt.barh(\n",
    "        y=i + bar_offset,\n",
    "        width=duration.total_seconds()/3600,\n",
    "        left=s2_start,\n",
    "        height=0.35,\n",
    "        color=\"salmon\",\n",
    "        edgecolor=\"black\",\n",
    "        label=\"Schedule 2\" if i==0 else \"\"\n",
    "    )\n",
    "    \n",
    "    \n",
    "    # Annotate media title **above the bars**\n",
    "    plt.text(\n",
    "        s1_start, i + 0.5,  # above the top bar\n",
    "        row['media_title'], \n",
    "        va='bottom', ha='left', fontsize=10, fontweight='bold'\n",
    "    )\n",
    "\n",
    "# Y-axis = platform names\n",
    "plt.yticks(range(len(df1)), df1['platform_name'])\n",
    "plt.gca().xaxis.set_major_formatter(mdates.DateFormatter(\"%H:%M\"))\n",
    "plt.xlabel(\"Time\")\n",
    "plt.ylabel(\"Platform\")\n",
    "plt.title(\"Overlapping Media Schedules (Highlighting Conflicts)\")\n",
    "plt.legend()\n",
    "plt.tight_layout()\n",
    "plt.show()\n"
   ]
  },
  {
   "cell_type": "markdown",
   "id": "229cd3a6",
   "metadata": {},
   "source": [
    "**Interpretation**: <br>\n",
    "Rows indicate media scheduled at overlapping times on the same platform. These conflicts should be resolved to maintain smooth broadcasting."
   ]
  },
  {
   "cell_type": "markdown",
   "id": "e011fdfa",
   "metadata": {},
   "source": [
    "### **Query 2: Licenses Expiring Soon**\n",
    "\n",
    "**Purpose:** Find content licenses expiring within the next 30 days.<br>\n",
    "**Business Use Case:** Alerts the business to renew or renegotiate licenses to avoid service interruptions."
   ]
  },
  {
   "cell_type": "code",
   "execution_count": 5,
   "id": "7939f712",
   "metadata": {},
   "outputs": [
    {
     "data": {
      "application/vnd.microsoft.datawrangler.viewer.v0+json": {
       "columns": [
        {
         "name": "index",
         "rawType": "int64",
         "type": "integer"
        },
        {
         "name": "title",
         "rawType": "object",
         "type": "string"
        },
        {
         "name": "platform",
         "rawType": "object",
         "type": "string"
        },
        {
         "name": "end_date",
         "rawType": "object",
         "type": "unknown"
        }
       ],
       "ref": "1256dd9e-4016-405a-92c4-51edec171f8e",
       "rows": [
        [
         "0",
         "Gladiator",
         "HBO Max",
         "2025-09-06"
        ],
        [
         "1",
         "The Matrix",
         "Prime Video",
         "2025-08-31"
        ]
       ],
       "shape": {
        "columns": 3,
        "rows": 2
       }
      },
      "text/html": [
       "<div>\n",
       "<style scoped>\n",
       "    .dataframe tbody tr th:only-of-type {\n",
       "        vertical-align: middle;\n",
       "    }\n",
       "\n",
       "    .dataframe tbody tr th {\n",
       "        vertical-align: top;\n",
       "    }\n",
       "\n",
       "    .dataframe thead th {\n",
       "        text-align: right;\n",
       "    }\n",
       "</style>\n",
       "<table border=\"1\" class=\"dataframe\">\n",
       "  <thead>\n",
       "    <tr style=\"text-align: right;\">\n",
       "      <th></th>\n",
       "      <th>title</th>\n",
       "      <th>platform</th>\n",
       "      <th>end_date</th>\n",
       "    </tr>\n",
       "  </thead>\n",
       "  <tbody>\n",
       "    <tr>\n",
       "      <th>0</th>\n",
       "      <td>Gladiator</td>\n",
       "      <td>HBO Max</td>\n",
       "      <td>2025-09-06</td>\n",
       "    </tr>\n",
       "    <tr>\n",
       "      <th>1</th>\n",
       "      <td>The Matrix</td>\n",
       "      <td>Prime Video</td>\n",
       "      <td>2025-08-31</td>\n",
       "    </tr>\n",
       "  </tbody>\n",
       "</table>\n",
       "</div>"
      ],
      "text/plain": [
       "        title     platform    end_date\n",
       "0   Gladiator      HBO Max  2025-09-06\n",
       "1  The Matrix  Prime Video  2025-08-31"
      ]
     },
     "execution_count": 5,
     "metadata": {},
     "output_type": "execute_result"
    }
   ],
   "source": [
    "query2 = \"\"\"\n",
    "SELECT \n",
    "    c.title,\n",
    "    p.name AS platform,\n",
    "    l.end_date\n",
    "FROM license l\n",
    "JOIN content c ON l.content_id = c.content_id\n",
    "JOIN platform p ON l.platform_id = p.platform_id\n",
    "WHERE l.end_date BETWEEN CURDATE() AND DATE_ADD(CURDATE(), INTERVAL 30 DAY);\n",
    "\"\"\"\n",
    "df2 = pd.read_sql(query2, engine)\n",
    "df2\n"
   ]
  },
  {
   "cell_type": "code",
   "execution_count": 6,
   "id": "1f28cc44",
   "metadata": {},
   "outputs": [
    {
     "data": {
      "image/png": "[encoded data removed]",
      "text/plain": [
       "<Figure size 800x400 with 1 Axes>"
      ]
     },
     "metadata": {},
     "output_type": "display_data"
    }
   ],
   "source": [
    "import pandas as pd\n",
    "import matplotlib.pyplot as plt\n",
    "import seaborn as sns\n",
    "\n",
    "# Sample df2 (for reference)\n",
    "# df2 = pd.DataFrame({\n",
    "#     'title': ['Gladiator', 'The Matrix'],\n",
    "#     'platform': ['HBO Max', 'Prime Video'],\n",
    "#     'end_date': ['2025-09-06', '2025-08-31']\n",
    "# })\n",
    "\n",
    "# Convert end_date to datetime\n",
    "df2['end_date'] = pd.to_datetime(df2['end_date'])\n",
    "df2['days_remaining'] = (df2['end_date'] - pd.to_datetime(\"today\")).dt.days\n",
    "\n",
    "plt.figure(figsize=(8, 4))\n",
    "\n",
    "# Color by urgency (less days = darker red)\n",
    "colors = [sns.color_palette(\"Reds\", 9)[max(0, 9 - int(d))] for d in df2['days_remaining']]\n",
    "\n",
    "# Horizontal bars\n",
    "plt.barh(df2['title'], df2['days_remaining'], color=colors, edgecolor='black')\n",
    "\n",
    "# Annotate days remaining\n",
    "for i, days in enumerate(df2['days_remaining']):\n",
    "    plt.text(days + 0.2, i, f\"{days} days\", va='center', fontsize=10)\n",
    "\n",
    "# Optional: vertical line for urgent threshold (7 days)\n",
    "plt.axvline(x=7, color='red', linestyle='--', label=\"1 Week Remaining\")\n",
    "plt.xlabel(\"Days Remaining\")\n",
    "plt.ylabel(\"Content Title\")\n",
    "plt.title(\"Licenses Expiring Soon (Next 30 Days)\")\n",
    "plt.legend()\n",
    "plt.tight_layout()\n",
    "plt.show()\n",
    "\n"
   ]
  },
  {
   "cell_type": "code",
   "execution_count": 7,
   "id": "830b6145",
   "metadata": {},
   "outputs": [
    {
     "data": {
      "text/plain": [
       "Index(['title', 'platform', 'end_date', 'days_remaining'], dtype='object')"
      ]
     },
     "execution_count": 7,
     "metadata": {},
     "output_type": "execute_result"
    }
   ],
   "source": [
    "df2.columns"
   ]
  },
  {
   "cell_type": "markdown",
   "id": "d9caa1dc",
   "metadata": {},
   "source": [
    "**Interpretation**:<br>\n",
    "Returned rows show licenses at risk of expiration soon. Immediate action may be required to maintain content availability."
   ]
  },
  {
   "cell_type": "markdown",
   "id": "c252bfb7",
   "metadata": {},
   "source": [
    "### **Query 3: Schedules Without Valid Licenses**\n",
    "\n",
    "**Purpose:** Detect scheduled media airing without a valid license.<br>\n",
    "**Business Use Case:** Ensures compliance with licensing agreements, preventing legal or contractual issues."
   ]
  },
  {
   "cell_type": "code",
   "execution_count": 8,
   "id": "4f134661",
   "metadata": {},
   "outputs": [
    {
     "data": {
      "application/vnd.microsoft.datawrangler.viewer.v0+json": {
       "columns": [
        {
         "name": "index",
         "rawType": "int64",
         "type": "integer"
        },
        {
         "name": "title",
         "rawType": "object",
         "type": "string"
        },
        {
         "name": "platform",
         "rawType": "object",
         "type": "string"
        },
        {
         "name": "air_datetime",
         "rawType": "datetime64[ns]",
         "type": "datetime"
        }
       ],
       "ref": "cb797ea2-9eaf-4d48-879e-f9b9fe59cdeb",
       "rows": [
        [
         "0",
         "Inception",
         "Netflix",
         "2025-08-17 20:00:00"
        ],
        [
         "1",
         "Toy Story",
         "Disney+",
         "2025-08-18 18:00:00"
        ],
        [
         "2",
         "Parasite",
         "Disney+",
         "2025-08-21 20:00:00"
        ]
       ],
       "shape": {
        "columns": 3,
        "rows": 3
       }
      },
      "text/html": [
       "<div>\n",
       "<style scoped>\n",
       "    .dataframe tbody tr th:only-of-type {\n",
       "        vertical-align: middle;\n",
       "    }\n",
       "\n",
       "    .dataframe tbody tr th {\n",
       "        vertical-align: top;\n",
       "    }\n",
       "\n",
       "    .dataframe thead th {\n",
       "        text-align: right;\n",
       "    }\n",
       "</style>\n",
       "<table border=\"1\" class=\"dataframe\">\n",
       "  <thead>\n",
       "    <tr style=\"text-align: right;\">\n",
       "      <th></th>\n",
       "      <th>title</th>\n",
       "      <th>platform</th>\n",
       "      <th>air_datetime</th>\n",
       "    </tr>\n",
       "  </thead>\n",
       "  <tbody>\n",
       "    <tr>\n",
       "      <th>0</th>\n",
       "      <td>Inception</td>\n",
       "      <td>Netflix</td>\n",
       "      <td>2025-08-17 20:00:00</td>\n",
       "    </tr>\n",
       "    <tr>\n",
       "      <th>1</th>\n",
       "      <td>Toy Story</td>\n",
       "      <td>Disney+</td>\n",
       "      <td>2025-08-18 18:00:00</td>\n",
       "    </tr>\n",
       "    <tr>\n",
       "      <th>2</th>\n",
       "      <td>Parasite</td>\n",
       "      <td>Disney+</td>\n",
       "      <td>2025-08-21 20:00:00</td>\n",
       "    </tr>\n",
       "  </tbody>\n",
       "</table>\n",
       "</div>"
      ],
      "text/plain": [
       "       title platform        air_datetime\n",
       "0  Inception  Netflix 2025-08-17 20:00:00\n",
       "1  Toy Story  Disney+ 2025-08-18 18:00:00\n",
       "2   Parasite  Disney+ 2025-08-21 20:00:00"
      ]
     },
     "execution_count": 8,
     "metadata": {},
     "output_type": "execute_result"
    }
   ],
   "source": [
    "query3 = \"\"\"\n",
    "SELECT \n",
    "    m.title,\n",
    "    p.name AS platform,\n",
    "    s.air_datetime\n",
    "FROM schedule s\n",
    "JOIN media m ON s.media_id = m.media_id\n",
    "JOIN platform p ON s.platform_id = p.platform_id\n",
    "LEFT JOIN license l\n",
    "    ON m.media_id = l.content_id\n",
    "    AND s.platform_id = l.platform_id\n",
    "    AND s.air_datetime BETWEEN l.start_date AND l.end_date\n",
    "WHERE l.license_id IS NULL;\n",
    "\"\"\"\n",
    "df3 = pd.read_sql(query3, engine)\n",
    "df3\n"
   ]
  },
  {
   "cell_type": "code",
   "execution_count": 9,
   "id": "5f7d5460",
   "metadata": {},
   "outputs": [
    {
     "data": {
      "image/png": "[encoded data removed]",
      "text/plain": [
       "<Figure size 800x400 with 1 Axes>"
      ]
     },
     "metadata": {},
     "output_type": "display_data"
    }
   ],
   "source": [
    "import matplotlib.pyplot as plt\n",
    "import matplotlib.pyplot as plt\n",
    "import pandas as pd\n",
    "import seaborn as sns\n",
    "\n",
    "# Convert air_datetime to datetime\n",
    "df3['air_datetime'] = pd.to_datetime(df3['air_datetime'])\n",
    "\n",
    "plt.figure(figsize=(8, 4))\n",
    "\n",
    "# Map each platform to a color\n",
    "platforms = df3['platform'].unique()\n",
    "palette = sns.color_palette(\"Set2\", len(platforms))\n",
    "platform_colors = dict(zip(platforms, palette))\n",
    "\n",
    "# Plot each airing as a point\n",
    "for i, row in df3.iterrows():\n",
    "    plt.plot(\n",
    "        row['air_datetime'], i,\n",
    "        marker='o', markersize=10,\n",
    "        color=platform_colors[row['platform']]\n",
    "    )\n",
    "    # Annotate media title next to the point\n",
    "    plt.text(\n",
    "        row['air_datetime'] + pd.Timedelta(hours=0.5), i,\n",
    "        row['title'], va='center', fontsize=10\n",
    "    )\n",
    "\n",
    "plt.yticks(range(len(df3)), df3['platform'])\n",
    "plt.xlabel(\"Scheduled Air Date & Time\")\n",
    "plt.ylabel(\"Platform\")\n",
    "plt.title(\"Scheduled Media Without Valid Licenses\")\n",
    "plt.tight_layout()\n",
    "plt.show()\n",
    "\n"
   ]
  },
  {
   "cell_type": "markdown",
   "id": "66e67e4a",
   "metadata": {},
   "source": [
    "**Interpretation**:<br>\n",
    "Any returned rows indicate media scheduled without an active license, highlighting urgent compliance issues."
   ]
  },
  {
   "cell_type": "markdown",
   "id": "5f970aa0",
   "metadata": {},
   "source": [
    "### **Query 4: License Conflicts (Exclusive but Appears Elsewhere)**\n",
    "\n",
    "**Purpose:** Identify content marked as exclusive but scheduled or licensed on other platforms.<br>\n",
    "**Business Use Case:** Helps maintain contractual exclusivity and prevents violations that could lead to penalties."
   ]
  },
  {
   "cell_type": "code",
   "execution_count": 10,
   "id": "83d8201d",
   "metadata": {},
   "outputs": [
    {
     "data": {
      "application/vnd.microsoft.datawrangler.viewer.v0+json": {
       "columns": [
        {
         "name": "index",
         "rawType": "int64",
         "type": "integer"
        },
        {
         "name": "title",
         "rawType": "object",
         "type": "string"
        },
        {
         "name": "exclusive_platform",
         "rawType": "object",
         "type": "string"
        },
        {
         "name": "exclusive",
         "rawType": "int64",
         "type": "integer"
        }
       ],
       "ref": "b0667d5b-0a25-495d-9270-178ab341a9f7",
       "rows": [
        [
         "0",
         "Parasite",
         "Netflix",
         "1"
        ]
       ],
       "shape": {
        "columns": 3,
        "rows": 1
       }
      },
      "text/html": [
       "<div>\n",
       "<style scoped>\n",
       "    .dataframe tbody tr th:only-of-type {\n",
       "        vertical-align: middle;\n",
       "    }\n",
       "\n",
       "    .dataframe tbody tr th {\n",
       "        vertical-align: top;\n",
       "    }\n",
       "\n",
       "    .dataframe thead th {\n",
       "        text-align: right;\n",
       "    }\n",
       "</style>\n",
       "<table border=\"1\" class=\"dataframe\">\n",
       "  <thead>\n",
       "    <tr style=\"text-align: right;\">\n",
       "      <th></th>\n",
       "      <th>title</th>\n",
       "      <th>exclusive_platform</th>\n",
       "      <th>exclusive</th>\n",
       "    </tr>\n",
       "  </thead>\n",
       "  <tbody>\n",
       "    <tr>\n",
       "      <th>0</th>\n",
       "      <td>Parasite</td>\n",
       "      <td>Netflix</td>\n",
       "      <td>1</td>\n",
       "    </tr>\n",
       "  </tbody>\n",
       "</table>\n",
       "</div>"
      ],
      "text/plain": [
       "      title exclusive_platform  exclusive\n",
       "0  Parasite            Netflix          1"
      ]
     },
     "execution_count": 10,
     "metadata": {},
     "output_type": "execute_result"
    }
   ],
   "source": [
    "query4 = \"\"\"\n",
    "SELECT DISTINCT \n",
    "    c.title,\n",
    "    p.name AS exclusive_platform,\n",
    "    l.exclusive\n",
    "FROM license l\n",
    "JOIN content c ON l.content_id = c.content_id\n",
    "JOIN platform p ON l.platform_id = p.platform_id\n",
    "WHERE l.exclusive = 1\n",
    "  AND EXISTS (\n",
    "      SELECT 1\n",
    "      FROM schedule s\n",
    "      JOIN platform p2 ON s.platform_id = p2.platform_id\n",
    "      WHERE s.media_id = (\n",
    "          SELECT media_id FROM media WHERE title = c.title LIMIT 1\n",
    "      )\n",
    "        AND p2.platform_id <> l.platform_id\n",
    "  );\n",
    "\"\"\"\n",
    "df4 = pd.read_sql(query4, engine)\n",
    "df4\n"
   ]
  },
  {
   "cell_type": "code",
   "execution_count": 11,
   "id": "ecb243e5",
   "metadata": {},
   "outputs": [
    {
     "data": {
      "image/png": "[encoded data removed]",
      "text/plain": [
       "<Figure size 600x200 with 1 Axes>"
      ]
     },
     "metadata": {},
     "output_type": "display_data"
    }
   ],
   "source": [
    "import matplotlib.pyplot as plt\n",
    "\n",
    "# Example single row\n",
    "row = df4.iloc[0]\n",
    "\n",
    "plt.figure(figsize=(6, 2))\n",
    "\n",
    "# Draw a horizontal bar to highlight violation\n",
    "plt.barh([0], [1], color='crimson', edgecolor='black', height=0.6)\n",
    "plt.text(0.5, 0, f\"{row['title']} scheduled on other platforms despite exclusivity ({row['exclusive_platform']})\",\n",
    "         ha='center', va='center', color='white', fontsize=10)\n",
    "\n",
    "plt.xlim(0, 1)\n",
    "plt.yticks([])\n",
    "plt.xticks([])\n",
    "plt.title(\"Exclusive License Violation\", fontsize=14, weight='bold')\n",
    "plt.tight_layout()\n",
    "plt.show()\n"
   ]
  },
  {
   "cell_type": "markdown",
   "id": "6277c545",
   "metadata": {},
   "source": [
    "**Interpretation**:<br>\n",
    "Rows indicate exclusivity violations. Addressing these protects revenue and maintains platform agreements."
   ]
  },
  {
   "cell_type": "markdown",
   "id": "9a0e89c7",
   "metadata": {},
   "source": [
    "### **Query 5: Multi-Region Broadcast Pattern**\n",
    "\n",
    "**Purpose:** Detect media airing in multiple regions within a short timeframe (≤7 days). <br>\n",
    "**Business Use Case:** Monitors simultaneous or near-simultaneous releases for global content, important for marketing and audience engagement."
   ]
  },
  {
   "cell_type": "code",
   "execution_count": 12,
   "id": "d41b228f",
   "metadata": {},
   "outputs": [
    {
     "data": {
      "application/vnd.microsoft.datawrangler.viewer.v0+json": {
       "columns": [
        {
         "name": "index",
         "rawType": "int64",
         "type": "integer"
        },
        {
         "name": "title",
         "rawType": "object",
         "type": "string"
        },
        {
         "name": "first_air_date",
         "rawType": "object",
         "type": "unknown"
        },
        {
         "name": "last_air_date",
         "rawType": "object",
         "type": "unknown"
        },
        {
         "name": "region_count",
         "rawType": "int64",
         "type": "integer"
        },
        {
         "name": "regions",
         "rawType": "object",
         "type": "string"
        }
       ],
       "ref": "78b100f3-7db5-4770-b365-ded324207ab5",
       "rows": [
        [
         "0",
         "Avatar 3",
         "2025-08-05",
         "2025-08-07",
         "3",
         "EU, LATAM, US"
        ],
        [
         "1",
         "Inception",
         "2025-08-15",
         "2025-08-17",
         "2",
         "EU, US"
        ],
        [
         "2",
         "Quantum Rift",
         "2025-09-01",
         "2025-09-02",
         "3",
         "FR, UK, US"
        ]
       ],
       "shape": {
        "columns": 5,
        "rows": 3
       }
      },
      "text/html": [
       "<div>\n",
       "<style scoped>\n",
       "    .dataframe tbody tr th:only-of-type {\n",
       "        vertical-align: middle;\n",
       "    }\n",
       "\n",
       "    .dataframe tbody tr th {\n",
       "        vertical-align: top;\n",
       "    }\n",
       "\n",
       "    .dataframe thead th {\n",
       "        text-align: right;\n",
       "    }\n",
       "</style>\n",
       "<table border=\"1\" class=\"dataframe\">\n",
       "  <thead>\n",
       "    <tr style=\"text-align: right;\">\n",
       "      <th></th>\n",
       "      <th>title</th>\n",
       "      <th>first_air_date</th>\n",
       "      <th>last_air_date</th>\n",
       "      <th>region_count</th>\n",
       "      <th>regions</th>\n",
       "    </tr>\n",
       "  </thead>\n",
       "  <tbody>\n",
       "    <tr>\n",
       "      <th>0</th>\n",
       "      <td>Avatar 3</td>\n",
       "      <td>2025-08-05</td>\n",
       "      <td>2025-08-07</td>\n",
       "      <td>3</td>\n",
       "      <td>EU, LATAM, US</td>\n",
       "    </tr>\n",
       "    <tr>\n",
       "      <th>1</th>\n",
       "      <td>Inception</td>\n",
       "      <td>2025-08-15</td>\n",
       "      <td>2025-08-17</td>\n",
       "      <td>2</td>\n",
       "      <td>EU, US</td>\n",
       "    </tr>\n",
       "    <tr>\n",
       "      <th>2</th>\n",
       "      <td>Quantum Rift</td>\n",
       "      <td>2025-09-01</td>\n",
       "      <td>2025-09-02</td>\n",
       "      <td>3</td>\n",
       "      <td>FR, UK, US</td>\n",
       "    </tr>\n",
       "  </tbody>\n",
       "</table>\n",
       "</div>"
      ],
      "text/plain": [
       "          title first_air_date last_air_date  region_count        regions\n",
       "0      Avatar 3     2025-08-05    2025-08-07             3  EU, LATAM, US\n",
       "1     Inception     2025-08-15    2025-08-17             2         EU, US\n",
       "2  Quantum Rift     2025-09-01    2025-09-02             3     FR, UK, US"
      ]
     },
     "execution_count": 12,
     "metadata": {},
     "output_type": "execute_result"
    }
   ],
   "source": [
    "query5 = \"\"\"\n",
    "SELECT \n",
    "    m.title,\n",
    "    MIN(DATE(s.air_datetime)) AS first_air_date,\n",
    "    MAX(DATE(s.air_datetime)) AS last_air_date,\n",
    "    COUNT(DISTINCT p.region) AS region_count,\n",
    "    GROUP_CONCAT(DISTINCT p.region ORDER BY p.region SEPARATOR ', ') AS regions\n",
    "FROM schedule s\n",
    "JOIN media m ON s.media_id = m.media_id\n",
    "JOIN platform p ON s.platform_id = p.platform_id\n",
    "GROUP BY m.title\n",
    "HAVING COUNT(DISTINCT p.region) > 1\n",
    "   AND DATEDIFF(MAX(DATE(s.air_datetime)), MIN(DATE(s.air_datetime))) <= 7\n",
    "ORDER BY m.title, first_air_date;\n",
    "\n",
    "\"\"\"\n",
    "df5 = pd.read_sql(query5, engine)\n",
    "df5\n"
   ]
  },
  {
   "cell_type": "code",
   "execution_count": 15,
   "id": "62a0a76d",
   "metadata": {},
   "outputs": [
    {
     "data": {
      "image/png": "[encoded data removed]",
      "text/plain": [
       "<Figure size 1200x600 with 1 Axes>"
      ]
     },
     "metadata": {},
     "output_type": "display_data"
    }
   ],
   "source": [
    "import matplotlib.pyplot as plt\n",
    "import matplotlib.dates as mdates\n",
    "import pandas as pd\n",
    "\n",
    "# Example dataframe for demonstration\n",
    "# df5 should already have first_air_date, last_air_date, and regions column (comma-separated)\n",
    "# e.g., 'EU, LATAM, US'\n",
    "df5['first_air_date'] = pd.to_datetime(df5['first_air_date'])\n",
    "df5['last_air_date'] = pd.to_datetime(df5['last_air_date'])\n",
    "\n",
    "# Assign colors to regions\n",
    "all_regions = set(r.strip() for regions in df5['regions'] for r in regions.split(','))\n",
    "region_colors = dict(zip(sorted(all_regions), ['skyblue', 'orange', 'green', 'red', 'purple', 'brown', 'pink']))\n",
    "\n",
    "fig, ax = plt.subplots(figsize=(12, 6))\n",
    "\n",
    "for i, row in df5.iterrows():\n",
    "    regions = [r.strip() for r in row['regions'].split(',')]\n",
    "    total_days = (row['last_air_date'] - row['first_air_date']).days + 1\n",
    "    \n",
    "    # If there are multiple regions, split the bar equally\n",
    "    segment_width = total_days / len(regions)\n",
    "    \n",
    "    for j, region in enumerate(regions):\n",
    "        start_date = row['first_air_date'] + pd.Timedelta(days=j * segment_width)\n",
    "        ax.barh(\n",
    "            row['title'],\n",
    "            width=segment_width,\n",
    "            left=start_date,\n",
    "            height=0.4,\n",
    "            color=region_colors[region],\n",
    "            edgecolor='black'\n",
    "        )\n",
    "        # Optional: annotate each segment with the region\n",
    "        ax.text(\n",
    "            start_date + pd.Timedelta(days=segment_width/2),\n",
    "            i,\n",
    "            region,\n",
    "            ha='center',\n",
    "            va='center',\n",
    "            color='black',\n",
    "            fontsize=9\n",
    "        )\n",
    "\n",
    "# Formatting x-axis as dates\n",
    "ax.xaxis.set_major_formatter(mdates.DateFormatter('%Y-%m-%d'))\n",
    "plt.xticks(rotation=45)\n",
    "plt.xlabel(\"Air Dates\")\n",
    "plt.ylabel(\"Media Title\")\n",
    "plt.title(\"Multi-Region Broadcasts (≤7 Days Window)\")\n",
    "plt.tight_layout()\n",
    "\n",
    "# Optional legend\n",
    "handles = [plt.Rectangle((0,0),1,1,color=color) for color in region_colors.values()]\n",
    "ax.legend(handles, region_colors.keys(), title=\"Regions\", bbox_to_anchor=(1.05, 1), loc='upper left')\n",
    "\n",
    "plt.show()\n"
   ]
  },
  {
   "cell_type": "markdown",
   "id": "6810cc11",
   "metadata": {},
   "source": [
    "**Interpretation**: <br>\n",
    "Returned rows highlight media released across multiple regions almost simultaneously. This helps plan global marketing campaigns and manage licensing considerations."
   ]
  },
  {
   "cell_type": "markdown",
   "id": "0053c98f",
   "metadata": {},
   "source": [
    "#  Conclusion & Next Steps\n",
    "\n",
    "###  Summary of Findings\n",
    "Through SQL queries and visualizations, we explored critical aspects of media scheduling and licensing:\n",
    "- **Overlapping Schedules** → highlighted potential broadcast conflicts that need resolution.  \n",
    "- **Licenses Expiring Soon** → flagged contracts at risk of lapsing, requiring timely renewal.  \n",
    "- **Schedules Without Valid Licenses** → exposed compliance issues that could create legal risks.  \n",
    "- **Exclusive License Conflicts** → detected exclusivity violations, protecting contractual obligations.  \n",
    "- **Multi-Region Broadcast Patterns** → identified globally coordinated releases, supporting international marketing strategies.  \n",
    "\n",
    "###  Key Insights\n",
    "- Overlaps and invalid schedules can directly disrupt broadcast planning.  \n",
    "- Proactive license monitoring ensures continuous content availability.  \n",
    "- Enforcing exclusivity safeguards both revenue and platform trust.  \n",
    "- Global release patterns provide opportunities for synchronized campaigns.  \n",
    "\n",
    "###  Limitations\n",
    "- Data used was partially synthetic and may not represent real-world scale.  \n",
    "- Audience/viewership impact was not included, which could change prioritization of conflicts.  \n",
    "- Regional analysis was high-level; more granular subregions could provide deeper insights.  \n",
    "\n",
    "###  Next Steps\n",
    "- **Automation:** Integrate queries into a pipeline with alerts (e.g., daily overlap/expiration checks).  \n",
    "- **Scalability:** Expand dataset to real-world volumes for stress testing.  \n",
    "- **Business Impact:** Link scheduling conflicts with audience data to quantify revenue implications.  \n",
    "- **Visualization:** Build dashboards (e.g., in Tableau or Plotly Dash) for continuous monitoring.  \n",
    "\n",
    "---\n",
    "\n",
    " **Final Note:**  \n",
    "This project demonstrates how SQL-driven analytics can ensure operational efficiency, licensing compliance, and strategic decision-making in media distribution. By combining queries, visualizations, and interpretations, we provide a foundation that can scale into production-ready monitoring systems for real-world use.  \n"
   ]
  }
 ],
 "metadata": {
  "kernelspec": {
   "display_name": "Python 3",
   "language": "python",
   "name": "python3"
  },
  "language_info": {
   "codemirror_mode": {
    "name": "ipython",
    "version": 3
   },
   "file_extension": ".py",
   "mimetype": "text/x-python",
   "name": "python",
   "nbconvert_exporter": "python",
   "pygments_lexer": "ipython3",
   "version": "3.11.4"
  }
 },
 "nbformat": 4,
 "nbformat_minor": 5
}
